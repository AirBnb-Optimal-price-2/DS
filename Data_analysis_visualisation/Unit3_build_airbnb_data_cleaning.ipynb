{
  "nbformat": 4,
  "nbformat_minor": 0,
  "metadata": {
    "colab": {
      "name": "Unit3_build_airbnb_data_cleaning.ipynb",
      "provenance": [],
      "collapsed_sections": []
    },
    "kernelspec": {
      "name": "python3",
      "display_name": "Python 3"
    }
  },
  "cells": [
    {
      "cell_type": "code",
      "metadata": {
        "id": "Y4VWUjaj3AFr",
        "colab_type": "code",
        "colab": {}
      },
      "source": [
        "from google.colab import files\n",
        "uploaded = files.upload()"
      ],
      "execution_count": 0,
      "outputs": []
    },
    {
      "cell_type": "code",
      "metadata": {
        "id": "m_khSYlk6HKM",
        "colab_type": "code",
        "colab": {}
      },
      "source": [
        "import pandas as pd\n"
      ],
      "execution_count": 0,
      "outputs": []
    },
    {
      "cell_type": "code",
      "metadata": {
        "id": "gHHgINmT6L4h",
        "colab_type": "code",
        "colab": {}
      },
      "source": [
        "df = pd.read_csv('listings_summary.csv')"
      ],
      "execution_count": 0,
      "outputs": []
    },
    {
      "cell_type": "code",
      "metadata": {
        "id": "btc_L9dW6fmW",
        "colab_type": "code",
        "colab": {
          "base_uri": "https://localhost:8080/",
          "height": 34
        },
        "outputId": "9bf00fe9-925e-4d77-a4c7-22a6c25f6d26"
      },
      "source": [
        "len(df['id'].unique())"
      ],
      "execution_count": 91,
      "outputs": [
        {
          "output_type": "execute_result",
          "data": {
            "text/plain": [
              "22552"
            ]
          },
          "metadata": {
            "tags": []
          },
          "execution_count": 91
        }
      ]
    },
    {
      "cell_type": "code",
      "metadata": {
        "id": "b4nmfQOR6gbl",
        "colab_type": "code",
        "colab": {
          "base_uri": "https://localhost:8080/",
          "height": 698
        },
        "outputId": "f9e6d73b-d210-456c-b46c-fd76e6b1bd4e"
      },
      "source": [
        "df.head()"
      ],
      "execution_count": 92,
      "outputs": [
        {
          "output_type": "execute_result",
          "data": {
            "text/html": [
              "<div>\n",
              "<style scoped>\n",
              "    .dataframe tbody tr th:only-of-type {\n",
              "        vertical-align: middle;\n",
              "    }\n",
              "\n",
              "    .dataframe tbody tr th {\n",
              "        vertical-align: top;\n",
              "    }\n",
              "\n",
              "    .dataframe thead th {\n",
              "        text-align: right;\n",
              "    }\n",
              "</style>\n",
              "<table border=\"1\" class=\"dataframe\">\n",
              "  <thead>\n",
              "    <tr style=\"text-align: right;\">\n",
              "      <th></th>\n",
              "      <th>id</th>\n",
              "      <th>listing_url</th>\n",
              "      <th>scrape_id</th>\n",
              "      <th>last_scraped</th>\n",
              "      <th>name</th>\n",
              "      <th>summary</th>\n",
              "      <th>space</th>\n",
              "      <th>description</th>\n",
              "      <th>experiences_offered</th>\n",
              "      <th>neighborhood_overview</th>\n",
              "      <th>notes</th>\n",
              "      <th>transit</th>\n",
              "      <th>access</th>\n",
              "      <th>interaction</th>\n",
              "      <th>house_rules</th>\n",
              "      <th>thumbnail_url</th>\n",
              "      <th>medium_url</th>\n",
              "      <th>picture_url</th>\n",
              "      <th>xl_picture_url</th>\n",
              "      <th>host_id</th>\n",
              "      <th>host_url</th>\n",
              "      <th>host_name</th>\n",
              "      <th>host_since</th>\n",
              "      <th>host_location</th>\n",
              "      <th>host_about</th>\n",
              "      <th>host_response_time</th>\n",
              "      <th>host_response_rate</th>\n",
              "      <th>host_acceptance_rate</th>\n",
              "      <th>host_is_superhost</th>\n",
              "      <th>host_thumbnail_url</th>\n",
              "      <th>host_picture_url</th>\n",
              "      <th>host_neighbourhood</th>\n",
              "      <th>host_listings_count</th>\n",
              "      <th>host_total_listings_count</th>\n",
              "      <th>host_verifications</th>\n",
              "      <th>host_has_profile_pic</th>\n",
              "      <th>host_identity_verified</th>\n",
              "      <th>street</th>\n",
              "      <th>neighbourhood</th>\n",
              "      <th>neighbourhood_cleansed</th>\n",
              "      <th>...</th>\n",
              "      <th>beds</th>\n",
              "      <th>bed_type</th>\n",
              "      <th>amenities</th>\n",
              "      <th>square_feet</th>\n",
              "      <th>price</th>\n",
              "      <th>weekly_price</th>\n",
              "      <th>monthly_price</th>\n",
              "      <th>security_deposit</th>\n",
              "      <th>cleaning_fee</th>\n",
              "      <th>guests_included</th>\n",
              "      <th>extra_people</th>\n",
              "      <th>minimum_nights</th>\n",
              "      <th>maximum_nights</th>\n",
              "      <th>calendar_updated</th>\n",
              "      <th>has_availability</th>\n",
              "      <th>availability_30</th>\n",
              "      <th>availability_60</th>\n",
              "      <th>availability_90</th>\n",
              "      <th>availability_365</th>\n",
              "      <th>calendar_last_scraped</th>\n",
              "      <th>number_of_reviews</th>\n",
              "      <th>first_review</th>\n",
              "      <th>last_review</th>\n",
              "      <th>review_scores_rating</th>\n",
              "      <th>review_scores_accuracy</th>\n",
              "      <th>review_scores_cleanliness</th>\n",
              "      <th>review_scores_checkin</th>\n",
              "      <th>review_scores_communication</th>\n",
              "      <th>review_scores_location</th>\n",
              "      <th>review_scores_value</th>\n",
              "      <th>requires_license</th>\n",
              "      <th>license</th>\n",
              "      <th>jurisdiction_names</th>\n",
              "      <th>instant_bookable</th>\n",
              "      <th>is_business_travel_ready</th>\n",
              "      <th>cancellation_policy</th>\n",
              "      <th>require_guest_profile_picture</th>\n",
              "      <th>require_guest_phone_verification</th>\n",
              "      <th>calculated_host_listings_count</th>\n",
              "      <th>reviews_per_month</th>\n",
              "    </tr>\n",
              "  </thead>\n",
              "  <tbody>\n",
              "    <tr>\n",
              "      <th>0</th>\n",
              "      <td>2015</td>\n",
              "      <td>https://www.airbnb.com/rooms/2015</td>\n",
              "      <td>20181107122246</td>\n",
              "      <td>2018-11-07</td>\n",
              "      <td>Berlin-Mitte Value! Quiet courtyard/very central</td>\n",
              "      <td>Great location!  30 of 75 sq meters. This wood...</td>\n",
              "      <td>A+++ location! This „Einliegerwohnung“ is an e...</td>\n",
              "      <td>Great location!  30 of 75 sq meters. This wood...</td>\n",
              "      <td>none</td>\n",
              "      <td>It is located in the former East Berlin area o...</td>\n",
              "      <td>This is my home, not a hotel. I rent out occas...</td>\n",
              "      <td>Close to U-Bahn U8 and U2 (metro), Trams M12, ...</td>\n",
              "      <td>Simple kitchen/cooking, refrigerator, microwav...</td>\n",
              "      <td>Always available</td>\n",
              "      <td>No parties No events No pets No smoking, not e...</td>\n",
              "      <td>NaN</td>\n",
              "      <td>NaN</td>\n",
              "      <td>https://a0.muscache.com/im/pictures/260fd609-7...</td>\n",
              "      <td>NaN</td>\n",
              "      <td>2217</td>\n",
              "      <td>https://www.airbnb.com/users/show/2217</td>\n",
              "      <td>Ian</td>\n",
              "      <td>2008-08-18</td>\n",
              "      <td>Key Biscayne, Florida, United States</td>\n",
              "      <td>Believe in sharing economy.</td>\n",
              "      <td>within an hour</td>\n",
              "      <td>96%</td>\n",
              "      <td>NaN</td>\n",
              "      <td>t</td>\n",
              "      <td>https://a0.muscache.com/im/pictures/21428a22-4...</td>\n",
              "      <td>https://a0.muscache.com/im/pictures/21428a22-4...</td>\n",
              "      <td>Mitte</td>\n",
              "      <td>4.0</td>\n",
              "      <td>4.0</td>\n",
              "      <td>['email', 'phone', 'reviews', 'jumio', 'offlin...</td>\n",
              "      <td>t</td>\n",
              "      <td>t</td>\n",
              "      <td>Berlin, Berlin, Germany</td>\n",
              "      <td>Mitte</td>\n",
              "      <td>Brunnenstr. Süd</td>\n",
              "      <td>...</td>\n",
              "      <td>2.0</td>\n",
              "      <td>Real Bed</td>\n",
              "      <td>{TV,\"Cable TV\",Wifi,Kitchen,Gym,Heating,\"Famil...</td>\n",
              "      <td>NaN</td>\n",
              "      <td>$60.00</td>\n",
              "      <td>NaN</td>\n",
              "      <td>NaN</td>\n",
              "      <td>$200.00</td>\n",
              "      <td>$30.00</td>\n",
              "      <td>1</td>\n",
              "      <td>$28.00</td>\n",
              "      <td>4</td>\n",
              "      <td>1125</td>\n",
              "      <td>3 months ago</td>\n",
              "      <td>t</td>\n",
              "      <td>0</td>\n",
              "      <td>21</td>\n",
              "      <td>51</td>\n",
              "      <td>141</td>\n",
              "      <td>2018-11-07</td>\n",
              "      <td>118</td>\n",
              "      <td>2016-04-11</td>\n",
              "      <td>2018-10-28</td>\n",
              "      <td>93.0</td>\n",
              "      <td>10.0</td>\n",
              "      <td>9.0</td>\n",
              "      <td>10.0</td>\n",
              "      <td>10.0</td>\n",
              "      <td>10.0</td>\n",
              "      <td>9.0</td>\n",
              "      <td>t</td>\n",
              "      <td>NaN</td>\n",
              "      <td>NaN</td>\n",
              "      <td>f</td>\n",
              "      <td>f</td>\n",
              "      <td>strict_14_with_grace_period</td>\n",
              "      <td>f</td>\n",
              "      <td>f</td>\n",
              "      <td>4</td>\n",
              "      <td>3.76</td>\n",
              "    </tr>\n",
              "    <tr>\n",
              "      <th>1</th>\n",
              "      <td>2695</td>\n",
              "      <td>https://www.airbnb.com/rooms/2695</td>\n",
              "      <td>20181107122246</td>\n",
              "      <td>2018-11-07</td>\n",
              "      <td>Prenzlauer Berg close to Mauerpark</td>\n",
              "      <td>NaN</td>\n",
              "      <td>In the summertime we are spending most of our ...</td>\n",
              "      <td>In the summertime we are spending most of our ...</td>\n",
              "      <td>none</td>\n",
              "      <td>NaN</td>\n",
              "      <td>NaN</td>\n",
              "      <td>Within walking distance you'll find the S-Bahn...</td>\n",
              "      <td>Außer deinem Zimmer kannst du noch die Küche u...</td>\n",
              "      <td>NaN</td>\n",
              "      <td>NaN</td>\n",
              "      <td>NaN</td>\n",
              "      <td>NaN</td>\n",
              "      <td>https://a0.muscache.com/im/pictures/97d4f6e8-1...</td>\n",
              "      <td>NaN</td>\n",
              "      <td>2986</td>\n",
              "      <td>https://www.airbnb.com/users/show/2986</td>\n",
              "      <td>Michael</td>\n",
              "      <td>2008-09-16</td>\n",
              "      <td>Berlin, Berlin, Germany</td>\n",
              "      <td>Living with my wife in Berlin.  Like travellin...</td>\n",
              "      <td>NaN</td>\n",
              "      <td>NaN</td>\n",
              "      <td>NaN</td>\n",
              "      <td>f</td>\n",
              "      <td>https://a0.muscache.com/im/pictures/50434955-1...</td>\n",
              "      <td>https://a0.muscache.com/im/pictures/50434955-1...</td>\n",
              "      <td>Prenzlauer Berg</td>\n",
              "      <td>1.0</td>\n",
              "      <td>1.0</td>\n",
              "      <td>['email', 'phone', 'reviews', 'jumio', 'govern...</td>\n",
              "      <td>t</td>\n",
              "      <td>t</td>\n",
              "      <td>Berlin, Berlin, Germany</td>\n",
              "      <td>NaN</td>\n",
              "      <td>Prenzlauer Berg Nordwest</td>\n",
              "      <td>...</td>\n",
              "      <td>1.0</td>\n",
              "      <td>Real Bed</td>\n",
              "      <td>{Wifi,Kitchen,Elevator,Heating,Washer,Essentia...</td>\n",
              "      <td>NaN</td>\n",
              "      <td>$17.00</td>\n",
              "      <td>NaN</td>\n",
              "      <td>NaN</td>\n",
              "      <td>$0.00</td>\n",
              "      <td>$0.00</td>\n",
              "      <td>1</td>\n",
              "      <td>$0.00</td>\n",
              "      <td>2</td>\n",
              "      <td>40</td>\n",
              "      <td>7 weeks ago</td>\n",
              "      <td>t</td>\n",
              "      <td>0</td>\n",
              "      <td>0</td>\n",
              "      <td>0</td>\n",
              "      <td>0</td>\n",
              "      <td>2018-11-07</td>\n",
              "      <td>6</td>\n",
              "      <td>2018-07-04</td>\n",
              "      <td>2018-10-01</td>\n",
              "      <td>100.0</td>\n",
              "      <td>10.0</td>\n",
              "      <td>10.0</td>\n",
              "      <td>10.0</td>\n",
              "      <td>10.0</td>\n",
              "      <td>10.0</td>\n",
              "      <td>10.0</td>\n",
              "      <td>t</td>\n",
              "      <td>NaN</td>\n",
              "      <td>NaN</td>\n",
              "      <td>f</td>\n",
              "      <td>f</td>\n",
              "      <td>flexible</td>\n",
              "      <td>f</td>\n",
              "      <td>f</td>\n",
              "      <td>1</td>\n",
              "      <td>1.42</td>\n",
              "    </tr>\n",
              "    <tr>\n",
              "      <th>2</th>\n",
              "      <td>3176</td>\n",
              "      <td>https://www.airbnb.com/rooms/3176</td>\n",
              "      <td>20181107122246</td>\n",
              "      <td>2018-11-07</td>\n",
              "      <td>Fabulous Flat in great Location</td>\n",
              "      <td>This beautiful first floor apartment  is situa...</td>\n",
              "      <td>1st floor (68m2) apartment on Kollwitzplatz/ P...</td>\n",
              "      <td>This beautiful first floor apartment  is situa...</td>\n",
              "      <td>none</td>\n",
              "      <td>The neighbourhood is famous for its variety of...</td>\n",
              "      <td>We welcome FAMILIES and cater especially for y...</td>\n",
              "      <td>We are 5 min walk  away from the tram M2, whic...</td>\n",
              "      <td>The apartment will be entirely yours. We are c...</td>\n",
              "      <td>Feel free to ask any questions prior to bookin...</td>\n",
              "      <td>It’s a non smoking flat, which likes to be tre...</td>\n",
              "      <td>NaN</td>\n",
              "      <td>NaN</td>\n",
              "      <td>https://a0.muscache.com/im/pictures/243355/84a...</td>\n",
              "      <td>NaN</td>\n",
              "      <td>3718</td>\n",
              "      <td>https://www.airbnb.com/users/show/3718</td>\n",
              "      <td>Britta</td>\n",
              "      <td>2008-10-19</td>\n",
              "      <td>Coledale, New South Wales, Australia</td>\n",
              "      <td>We love to travel ourselves a lot and prefer t...</td>\n",
              "      <td>within a day</td>\n",
              "      <td>100%</td>\n",
              "      <td>NaN</td>\n",
              "      <td>f</td>\n",
              "      <td>https://a0.muscache.com/im/users/3718/profile_...</td>\n",
              "      <td>https://a0.muscache.com/im/users/3718/profile_...</td>\n",
              "      <td>Prenzlauer Berg</td>\n",
              "      <td>1.0</td>\n",
              "      <td>1.0</td>\n",
              "      <td>['email', 'phone', 'facebook', 'reviews', 'man...</td>\n",
              "      <td>t</td>\n",
              "      <td>t</td>\n",
              "      <td>Berlin, Berlin, Germany</td>\n",
              "      <td>Prenzlauer Berg</td>\n",
              "      <td>Prenzlauer Berg Südwest</td>\n",
              "      <td>...</td>\n",
              "      <td>2.0</td>\n",
              "      <td>Real Bed</td>\n",
              "      <td>{Internet,Wifi,Kitchen,\"Buzzer/wireless interc...</td>\n",
              "      <td>720.0</td>\n",
              "      <td>$90.00</td>\n",
              "      <td>$520.00</td>\n",
              "      <td>$1,900.00</td>\n",
              "      <td>$200.00</td>\n",
              "      <td>$50.00</td>\n",
              "      <td>2</td>\n",
              "      <td>$20.00</td>\n",
              "      <td>62</td>\n",
              "      <td>1125</td>\n",
              "      <td>a week ago</td>\n",
              "      <td>t</td>\n",
              "      <td>0</td>\n",
              "      <td>0</td>\n",
              "      <td>0</td>\n",
              "      <td>220</td>\n",
              "      <td>2018-11-07</td>\n",
              "      <td>143</td>\n",
              "      <td>2009-06-20</td>\n",
              "      <td>2017-03-20</td>\n",
              "      <td>92.0</td>\n",
              "      <td>9.0</td>\n",
              "      <td>9.0</td>\n",
              "      <td>9.0</td>\n",
              "      <td>9.0</td>\n",
              "      <td>10.0</td>\n",
              "      <td>9.0</td>\n",
              "      <td>t</td>\n",
              "      <td>NaN</td>\n",
              "      <td>NaN</td>\n",
              "      <td>t</td>\n",
              "      <td>f</td>\n",
              "      <td>strict_14_with_grace_period</td>\n",
              "      <td>f</td>\n",
              "      <td>f</td>\n",
              "      <td>1</td>\n",
              "      <td>1.25</td>\n",
              "    </tr>\n",
              "    <tr>\n",
              "      <th>3</th>\n",
              "      <td>3309</td>\n",
              "      <td>https://www.airbnb.com/rooms/3309</td>\n",
              "      <td>20181107122246</td>\n",
              "      <td>2018-11-07</td>\n",
              "      <td>BerlinSpot Schöneberg near KaDeWe</td>\n",
              "      <td>First of all: I prefer short-notice bookings. ...</td>\n",
              "      <td>Your room is really big and has 26 sqm, is ver...</td>\n",
              "      <td>First of all: I prefer short-notice bookings. ...</td>\n",
              "      <td>none</td>\n",
              "      <td>My flat is in the middle of West-Berlin, direc...</td>\n",
              "      <td>The flat is a strictly non-smoking facility! A...</td>\n",
              "      <td>The public transportation is excellent: Severa...</td>\n",
              "      <td>I do have a strictly non-smoker-flat.  Keep th...</td>\n",
              "      <td>I'm working as a freelancing photographer. My ...</td>\n",
              "      <td>House-Rules and Information ..............(deu...</td>\n",
              "      <td>NaN</td>\n",
              "      <td>NaN</td>\n",
              "      <td>https://a0.muscache.com/im/pictures/29054294/b...</td>\n",
              "      <td>NaN</td>\n",
              "      <td>4108</td>\n",
              "      <td>https://www.airbnb.com/users/show/4108</td>\n",
              "      <td>Jana</td>\n",
              "      <td>2008-11-07</td>\n",
              "      <td>Berlin, Berlin, Germany</td>\n",
              "      <td>ENJOY EVERY DAY AS IF IT'S YOUR LAST!!! \\r\\n\\r...</td>\n",
              "      <td>NaN</td>\n",
              "      <td>NaN</td>\n",
              "      <td>NaN</td>\n",
              "      <td>f</td>\n",
              "      <td>https://a0.muscache.com/im/pictures/user/b5938...</td>\n",
              "      <td>https://a0.muscache.com/im/pictures/user/b5938...</td>\n",
              "      <td>Schöneberg</td>\n",
              "      <td>1.0</td>\n",
              "      <td>1.0</td>\n",
              "      <td>['email', 'phone', 'reviews', 'jumio', 'govern...</td>\n",
              "      <td>t</td>\n",
              "      <td>t</td>\n",
              "      <td>Berlin, Berlin, Germany</td>\n",
              "      <td>Schöneberg</td>\n",
              "      <td>Schöneberg-Nord</td>\n",
              "      <td>...</td>\n",
              "      <td>1.0</td>\n",
              "      <td>Pull-out Sofa</td>\n",
              "      <td>{Internet,Wifi,\"Pets allowed\",\"Pets live on th...</td>\n",
              "      <td>0.0</td>\n",
              "      <td>$26.00</td>\n",
              "      <td>$175.00</td>\n",
              "      <td>$599.00</td>\n",
              "      <td>$250.00</td>\n",
              "      <td>$30.00</td>\n",
              "      <td>1</td>\n",
              "      <td>$18.00</td>\n",
              "      <td>5</td>\n",
              "      <td>360</td>\n",
              "      <td>4 weeks ago</td>\n",
              "      <td>t</td>\n",
              "      <td>0</td>\n",
              "      <td>0</td>\n",
              "      <td>22</td>\n",
              "      <td>297</td>\n",
              "      <td>2018-11-07</td>\n",
              "      <td>25</td>\n",
              "      <td>2013-08-12</td>\n",
              "      <td>2018-08-16</td>\n",
              "      <td>88.0</td>\n",
              "      <td>9.0</td>\n",
              "      <td>9.0</td>\n",
              "      <td>9.0</td>\n",
              "      <td>10.0</td>\n",
              "      <td>9.0</td>\n",
              "      <td>9.0</td>\n",
              "      <td>t</td>\n",
              "      <td>NaN</td>\n",
              "      <td>NaN</td>\n",
              "      <td>f</td>\n",
              "      <td>f</td>\n",
              "      <td>strict_14_with_grace_period</td>\n",
              "      <td>f</td>\n",
              "      <td>f</td>\n",
              "      <td>1</td>\n",
              "      <td>0.39</td>\n",
              "    </tr>\n",
              "    <tr>\n",
              "      <th>4</th>\n",
              "      <td>7071</td>\n",
              "      <td>https://www.airbnb.com/rooms/7071</td>\n",
              "      <td>20181107122246</td>\n",
              "      <td>2018-11-07</td>\n",
              "      <td>BrightRoom with sunny greenview!</td>\n",
              "      <td>Cozy and large room in the beautiful district ...</td>\n",
              "      <td>The BrightRoom is an approx. 20 sqm (215ft²), ...</td>\n",
              "      <td>Cozy and large room in the beautiful district ...</td>\n",
              "      <td>none</td>\n",
              "      <td>Great neighborhood with plenty of Cafés, Baker...</td>\n",
              "      <td>I hope you enjoy your stay to the fullest! Ple...</td>\n",
              "      <td>Best access to other parts of the city via pub...</td>\n",
              "      <td>The guests have access to the bathroom, a smal...</td>\n",
              "      <td>I am glad if I can give you advice or help as ...</td>\n",
              "      <td>Please take good care of everything during you...</td>\n",
              "      <td>NaN</td>\n",
              "      <td>NaN</td>\n",
              "      <td>https://a0.muscache.com/im/pictures/21278/32a1...</td>\n",
              "      <td>NaN</td>\n",
              "      <td>17391</td>\n",
              "      <td>https://www.airbnb.com/users/show/17391</td>\n",
              "      <td>Bright</td>\n",
              "      <td>2009-05-16</td>\n",
              "      <td>Berlin, Berlin, Germany</td>\n",
              "      <td>I'm a creative person, adventurer, and travele...</td>\n",
              "      <td>within an hour</td>\n",
              "      <td>100%</td>\n",
              "      <td>NaN</td>\n",
              "      <td>t</td>\n",
              "      <td>https://a0.muscache.com/im/pictures/user/48c3d...</td>\n",
              "      <td>https://a0.muscache.com/im/pictures/user/48c3d...</td>\n",
              "      <td>Prenzlauer Berg</td>\n",
              "      <td>1.0</td>\n",
              "      <td>1.0</td>\n",
              "      <td>['email', 'phone', 'reviews', 'jumio', 'govern...</td>\n",
              "      <td>t</td>\n",
              "      <td>t</td>\n",
              "      <td>Berlin, Berlin, Germany</td>\n",
              "      <td>Prenzlauer Berg</td>\n",
              "      <td>Helmholtzplatz</td>\n",
              "      <td>...</td>\n",
              "      <td>2.0</td>\n",
              "      <td>Real Bed</td>\n",
              "      <td>{Wifi,Heating,\"Family/kid friendly\",Essentials...</td>\n",
              "      <td>NaN</td>\n",
              "      <td>$42.00</td>\n",
              "      <td>NaN</td>\n",
              "      <td>NaN</td>\n",
              "      <td>$0.00</td>\n",
              "      <td>$0.00</td>\n",
              "      <td>1</td>\n",
              "      <td>$24.00</td>\n",
              "      <td>2</td>\n",
              "      <td>10</td>\n",
              "      <td>3 days ago</td>\n",
              "      <td>t</td>\n",
              "      <td>15</td>\n",
              "      <td>26</td>\n",
              "      <td>26</td>\n",
              "      <td>26</td>\n",
              "      <td>2018-11-07</td>\n",
              "      <td>197</td>\n",
              "      <td>2009-08-18</td>\n",
              "      <td>2018-11-04</td>\n",
              "      <td>96.0</td>\n",
              "      <td>10.0</td>\n",
              "      <td>10.0</td>\n",
              "      <td>10.0</td>\n",
              "      <td>10.0</td>\n",
              "      <td>10.0</td>\n",
              "      <td>9.0</td>\n",
              "      <td>t</td>\n",
              "      <td>NaN</td>\n",
              "      <td>NaN</td>\n",
              "      <td>f</td>\n",
              "      <td>f</td>\n",
              "      <td>moderate</td>\n",
              "      <td>f</td>\n",
              "      <td>f</td>\n",
              "      <td>1</td>\n",
              "      <td>1.75</td>\n",
              "    </tr>\n",
              "  </tbody>\n",
              "</table>\n",
              "<p>5 rows × 96 columns</p>\n",
              "</div>"
            ],
            "text/plain": [
              "     id  ... reviews_per_month\n",
              "0  2015  ...              3.76\n",
              "1  2695  ...              1.42\n",
              "2  3176  ...              1.25\n",
              "3  3309  ...              0.39\n",
              "4  7071  ...              1.75\n",
              "\n",
              "[5 rows x 96 columns]"
            ]
          },
          "metadata": {
            "tags": []
          },
          "execution_count": 92
        }
      ]
    },
    {
      "cell_type": "code",
      "metadata": {
        "id": "QoqCAe3B6j8G",
        "colab_type": "code",
        "colab": {}
      },
      "source": [
        "col = df.columns.sort_values()"
      ],
      "execution_count": 0,
      "outputs": []
    },
    {
      "cell_type": "code",
      "metadata": {
        "id": "xfdcbBvY6yuJ",
        "colab_type": "code",
        "colab": {
          "base_uri": "https://localhost:8080/",
          "height": 514
        },
        "outputId": "ac114db6-906a-4ac7-8ffd-75d8637776b3"
      },
      "source": [
        "col"
      ],
      "execution_count": 93,
      "outputs": [
        {
          "output_type": "execute_result",
          "data": {
            "text/plain": [
              "Index(['access', 'accommodates', 'amenities', 'availability_30',\n",
              "       'availability_365', 'availability_60', 'availability_90', 'bathrooms',\n",
              "       'bed_type', 'bedrooms', 'beds', 'calculated_host_listings_count',\n",
              "       'calendar_last_scraped', 'calendar_updated', 'cancellation_policy',\n",
              "       'city', 'cleaning_fee', 'country', 'country_code', 'description',\n",
              "       'experiences_offered', 'extra_people', 'first_review',\n",
              "       'guests_included', 'has_availability', 'host_about',\n",
              "       'host_acceptance_rate', 'host_has_profile_pic', 'host_id',\n",
              "       'host_identity_verified', 'host_is_superhost', 'host_listings_count',\n",
              "       'host_location', 'host_name', 'host_neighbourhood', 'host_picture_url',\n",
              "       'host_response_rate', 'host_response_time', 'host_since',\n",
              "       'host_thumbnail_url', 'host_total_listings_count', 'host_url',\n",
              "       'host_verifications', 'house_rules', 'id', 'instant_bookable',\n",
              "       'interaction', 'is_business_travel_ready', 'is_location_exact',\n",
              "       'jurisdiction_names', 'last_review', 'last_scraped', 'latitude',\n",
              "       'license', 'listing_url', 'longitude', 'market', 'maximum_nights',\n",
              "       'medium_url', 'minimum_nights', 'monthly_price', 'name',\n",
              "       'neighborhood_overview', 'neighbourhood', 'neighbourhood_cleansed',\n",
              "       'neighbourhood_group_cleansed', 'notes', 'number_of_reviews',\n",
              "       'picture_url', 'price', 'property_type',\n",
              "       'require_guest_phone_verification', 'require_guest_profile_picture',\n",
              "       'requires_license', 'review_scores_accuracy', 'review_scores_checkin',\n",
              "       'review_scores_cleanliness', 'review_scores_communication',\n",
              "       'review_scores_location', 'review_scores_rating', 'review_scores_value',\n",
              "       'reviews_per_month', 'room_type', 'scrape_id', 'security_deposit',\n",
              "       'smart_location', 'space', 'square_feet', 'state', 'street', 'summary',\n",
              "       'thumbnail_url', 'transit', 'weekly_price', 'xl_picture_url',\n",
              "       'zipcode'],\n",
              "      dtype='object')"
            ]
          },
          "metadata": {
            "tags": []
          },
          "execution_count": 93
        }
      ]
    },
    {
      "cell_type": "code",
      "metadata": {
        "id": "UGlkEWAVHCFa",
        "colab_type": "code",
        "colab": {
          "base_uri": "https://localhost:8080/",
          "height": 120
        },
        "outputId": "dae1fc3f-f547-40b9-d1a9-3f6f905fcbc4"
      },
      "source": [
        "df['amenities'].head()"
      ],
      "execution_count": 125,
      "outputs": [
        {
          "output_type": "execute_result",
          "data": {
            "text/plain": [
              "0    {TV,\"Cable TV\",Wifi,Kitchen,Gym,Heating,\"Famil...\n",
              "1    {Wifi,Kitchen,Elevator,Heating,Washer,Essentia...\n",
              "2    {Internet,Wifi,Kitchen,\"Buzzer/wireless interc...\n",
              "3    {Internet,Wifi,\"Pets allowed\",\"Pets live on th...\n",
              "4    {Wifi,Heating,\"Family/kid friendly\",Essentials...\n",
              "Name: amenities, dtype: object"
            ]
          },
          "metadata": {
            "tags": []
          },
          "execution_count": 125
        }
      ]
    },
    {
      "cell_type": "code",
      "metadata": {
        "id": "jJU5jMZkIKTT",
        "colab_type": "code",
        "colab": {}
      },
      "source": [
        "from collections import Counter"
      ],
      "execution_count": 0,
      "outputs": []
    },
    {
      "cell_type": "code",
      "metadata": {
        "id": "ptD7dHYoIORu",
        "colab_type": "code",
        "colab": {
          "base_uri": "https://localhost:8080/",
          "height": 531
        },
        "outputId": "b31885d5-60a3-4b6d-b48b-77490a4772a1"
      },
      "source": [
        "results = Counter()\n",
        "df['amenities'].str.strip('{}')\\\n",
        "               .str.replace('\"', '')\\\n",
        "               .str.lstrip('\\\"')\\\n",
        "               .str.rstrip('\\\"')\\\n",
        "               .str.split(',')\\\n",
        "               .apply(results.update)\n",
        "\n",
        "results.most_common(30)"
      ],
      "execution_count": 127,
      "outputs": [
        {
          "output_type": "execute_result",
          "data": {
            "text/plain": [
              "[('Wifi', 21512),\n",
              " ('Kitchen', 21332),\n",
              " ('Heating', 21190),\n",
              " ('Essentials', 20329),\n",
              " ('Washer', 18497),\n",
              " ('Hair dryer', 14891),\n",
              " ('Laptop friendly workspace', 14447),\n",
              " ('Hangers', 13908),\n",
              " ('Iron', 11206),\n",
              " ('Shampoo', 10654),\n",
              " ('TV', 10134),\n",
              " ('Hot water', 9744),\n",
              " ('Family/kid friendly', 8141),\n",
              " ('Internet', 7909),\n",
              " ('Host greets you', 6663),\n",
              " ('Smoke detector', 6457),\n",
              " ('Buzzer/wireless intercom', 6116),\n",
              " ('Lock on bedroom door', 5294),\n",
              " ('Refrigerator', 5212),\n",
              " ('Free street parking', 5190),\n",
              " ('Dishes and silverware', 5082),\n",
              " ('Elevator', 4867),\n",
              " ('Bed linens', 4842),\n",
              " ('Cooking basics', 4834),\n",
              " ('Stove', 4816),\n",
              " ('Smoking allowed', 4589),\n",
              " ('Oven', 4312),\n",
              " ('translation missing: en.hosting_amenity_50', 4184),\n",
              " ('First aid kit', 4011),\n",
              " ('Cable TV', 3725)]"
            ]
          },
          "metadata": {
            "tags": []
          },
          "execution_count": 127
        }
      ]
    },
    {
      "cell_type": "code",
      "metadata": {
        "id": "7XtnS-DwIXBv",
        "colab_type": "code",
        "colab": {}
      },
      "source": [
        "sub_df = pd.DataFrame(results.most_common(30), columns=['amenity', 'count'])"
      ],
      "execution_count": 0,
      "outputs": []
    },
    {
      "cell_type": "code",
      "metadata": {
        "id": "AxV2Kv3RlFek",
        "colab_type": "code",
        "colab": {
          "base_uri": "https://localhost:8080/",
          "height": 974
        },
        "outputId": "51cbe7af-aaae-43fc-a25a-6c7e4b4a5da4"
      },
      "source": [
        "sub_df"
      ],
      "execution_count": 129,
      "outputs": [
        {
          "output_type": "execute_result",
          "data": {
            "text/html": [
              "<div>\n",
              "<style scoped>\n",
              "    .dataframe tbody tr th:only-of-type {\n",
              "        vertical-align: middle;\n",
              "    }\n",
              "\n",
              "    .dataframe tbody tr th {\n",
              "        vertical-align: top;\n",
              "    }\n",
              "\n",
              "    .dataframe thead th {\n",
              "        text-align: right;\n",
              "    }\n",
              "</style>\n",
              "<table border=\"1\" class=\"dataframe\">\n",
              "  <thead>\n",
              "    <tr style=\"text-align: right;\">\n",
              "      <th></th>\n",
              "      <th>amenity</th>\n",
              "      <th>count</th>\n",
              "    </tr>\n",
              "  </thead>\n",
              "  <tbody>\n",
              "    <tr>\n",
              "      <th>0</th>\n",
              "      <td>Wifi</td>\n",
              "      <td>21512</td>\n",
              "    </tr>\n",
              "    <tr>\n",
              "      <th>1</th>\n",
              "      <td>Kitchen</td>\n",
              "      <td>21332</td>\n",
              "    </tr>\n",
              "    <tr>\n",
              "      <th>2</th>\n",
              "      <td>Heating</td>\n",
              "      <td>21190</td>\n",
              "    </tr>\n",
              "    <tr>\n",
              "      <th>3</th>\n",
              "      <td>Essentials</td>\n",
              "      <td>20329</td>\n",
              "    </tr>\n",
              "    <tr>\n",
              "      <th>4</th>\n",
              "      <td>Washer</td>\n",
              "      <td>18497</td>\n",
              "    </tr>\n",
              "    <tr>\n",
              "      <th>5</th>\n",
              "      <td>Hair dryer</td>\n",
              "      <td>14891</td>\n",
              "    </tr>\n",
              "    <tr>\n",
              "      <th>6</th>\n",
              "      <td>Laptop friendly workspace</td>\n",
              "      <td>14447</td>\n",
              "    </tr>\n",
              "    <tr>\n",
              "      <th>7</th>\n",
              "      <td>Hangers</td>\n",
              "      <td>13908</td>\n",
              "    </tr>\n",
              "    <tr>\n",
              "      <th>8</th>\n",
              "      <td>Iron</td>\n",
              "      <td>11206</td>\n",
              "    </tr>\n",
              "    <tr>\n",
              "      <th>9</th>\n",
              "      <td>Shampoo</td>\n",
              "      <td>10654</td>\n",
              "    </tr>\n",
              "    <tr>\n",
              "      <th>10</th>\n",
              "      <td>TV</td>\n",
              "      <td>10134</td>\n",
              "    </tr>\n",
              "    <tr>\n",
              "      <th>11</th>\n",
              "      <td>Hot water</td>\n",
              "      <td>9744</td>\n",
              "    </tr>\n",
              "    <tr>\n",
              "      <th>12</th>\n",
              "      <td>Family/kid friendly</td>\n",
              "      <td>8141</td>\n",
              "    </tr>\n",
              "    <tr>\n",
              "      <th>13</th>\n",
              "      <td>Internet</td>\n",
              "      <td>7909</td>\n",
              "    </tr>\n",
              "    <tr>\n",
              "      <th>14</th>\n",
              "      <td>Host greets you</td>\n",
              "      <td>6663</td>\n",
              "    </tr>\n",
              "    <tr>\n",
              "      <th>15</th>\n",
              "      <td>Smoke detector</td>\n",
              "      <td>6457</td>\n",
              "    </tr>\n",
              "    <tr>\n",
              "      <th>16</th>\n",
              "      <td>Buzzer/wireless intercom</td>\n",
              "      <td>6116</td>\n",
              "    </tr>\n",
              "    <tr>\n",
              "      <th>17</th>\n",
              "      <td>Lock on bedroom door</td>\n",
              "      <td>5294</td>\n",
              "    </tr>\n",
              "    <tr>\n",
              "      <th>18</th>\n",
              "      <td>Refrigerator</td>\n",
              "      <td>5212</td>\n",
              "    </tr>\n",
              "    <tr>\n",
              "      <th>19</th>\n",
              "      <td>Free street parking</td>\n",
              "      <td>5190</td>\n",
              "    </tr>\n",
              "    <tr>\n",
              "      <th>20</th>\n",
              "      <td>Dishes and silverware</td>\n",
              "      <td>5082</td>\n",
              "    </tr>\n",
              "    <tr>\n",
              "      <th>21</th>\n",
              "      <td>Elevator</td>\n",
              "      <td>4867</td>\n",
              "    </tr>\n",
              "    <tr>\n",
              "      <th>22</th>\n",
              "      <td>Bed linens</td>\n",
              "      <td>4842</td>\n",
              "    </tr>\n",
              "    <tr>\n",
              "      <th>23</th>\n",
              "      <td>Cooking basics</td>\n",
              "      <td>4834</td>\n",
              "    </tr>\n",
              "    <tr>\n",
              "      <th>24</th>\n",
              "      <td>Stove</td>\n",
              "      <td>4816</td>\n",
              "    </tr>\n",
              "    <tr>\n",
              "      <th>25</th>\n",
              "      <td>Smoking allowed</td>\n",
              "      <td>4589</td>\n",
              "    </tr>\n",
              "    <tr>\n",
              "      <th>26</th>\n",
              "      <td>Oven</td>\n",
              "      <td>4312</td>\n",
              "    </tr>\n",
              "    <tr>\n",
              "      <th>27</th>\n",
              "      <td>translation missing: en.hosting_amenity_50</td>\n",
              "      <td>4184</td>\n",
              "    </tr>\n",
              "    <tr>\n",
              "      <th>28</th>\n",
              "      <td>First aid kit</td>\n",
              "      <td>4011</td>\n",
              "    </tr>\n",
              "    <tr>\n",
              "      <th>29</th>\n",
              "      <td>Cable TV</td>\n",
              "      <td>3725</td>\n",
              "    </tr>\n",
              "  </tbody>\n",
              "</table>\n",
              "</div>"
            ],
            "text/plain": [
              "                                       amenity  count\n",
              "0                                         Wifi  21512\n",
              "1                                      Kitchen  21332\n",
              "2                                      Heating  21190\n",
              "3                                   Essentials  20329\n",
              "4                                       Washer  18497\n",
              "5                                   Hair dryer  14891\n",
              "6                    Laptop friendly workspace  14447\n",
              "7                                      Hangers  13908\n",
              "8                                         Iron  11206\n",
              "9                                      Shampoo  10654\n",
              "10                                          TV  10134\n",
              "11                                   Hot water   9744\n",
              "12                         Family/kid friendly   8141\n",
              "13                                    Internet   7909\n",
              "14                             Host greets you   6663\n",
              "15                              Smoke detector   6457\n",
              "16                    Buzzer/wireless intercom   6116\n",
              "17                        Lock on bedroom door   5294\n",
              "18                                Refrigerator   5212\n",
              "19                         Free street parking   5190\n",
              "20                       Dishes and silverware   5082\n",
              "21                                    Elevator   4867\n",
              "22                                  Bed linens   4842\n",
              "23                              Cooking basics   4834\n",
              "24                                       Stove   4816\n",
              "25                             Smoking allowed   4589\n",
              "26                                        Oven   4312\n",
              "27  translation missing: en.hosting_amenity_50   4184\n",
              "28                               First aid kit   4011\n",
              "29                                    Cable TV   3725"
            ]
          },
          "metadata": {
            "tags": []
          },
          "execution_count": 129
        }
      ]
    },
    {
      "cell_type": "code",
      "metadata": {
        "id": "UomF51skIjhR",
        "colab_type": "code",
        "colab": {}
      },
      "source": [
        "df['Wifi'] = df['amenities'].str.contains('Wifi')\n",
        "df['Laptop_friendly_workspace'] = df['amenities'].str.contains('Laptop friendly workspace')\n",
        "df['TV'] = df['amenities'].str.contains('TV')\n",
        "df['Family_kid_friendly'] = df['amenities'].str.contains('Family/kid friendly')\n",
        "df['Host_greets_you'] = df['amenities'].str.contains('Host greets you')\n",
        "df['Smoking_allowed'] = df['amenities'].str.contains('Smoking allowed')"
      ],
      "execution_count": 0,
      "outputs": []
    },
    {
      "cell_type": "code",
      "metadata": {
        "id": "oHBWv1fZI_1v",
        "colab_type": "code",
        "colab": {}
      },
      "source": [
        "col_keep = ['price','cleaning_fee','accommodates','minimum_nights','bedrooms','bathrooms',\n",
        "            'neighbourhood_group_cleansed','room_type','description','extra_people',\n",
        "            'Laptop_friendly_workspace','TV','Wifi','Family_kid_friendly','Host_greets_you','Smoking_allowed']"
      ],
      "execution_count": 0,
      "outputs": []
    },
    {
      "cell_type": "code",
      "metadata": {
        "id": "H0cnm5VpFrOz",
        "colab_type": "code",
        "colab": {}
      },
      "source": [
        "df_raw = df[col_keep] "
      ],
      "execution_count": 0,
      "outputs": []
    },
    {
      "cell_type": "code",
      "metadata": {
        "id": "NL0w58lbLaGW",
        "colab_type": "code",
        "colab": {
          "base_uri": "https://localhost:8080/",
          "height": 34
        },
        "outputId": "495e2f61-d6d6-4970-ce43-44489bd51888"
      },
      "source": [
        "df_raw.shape"
      ],
      "execution_count": 143,
      "outputs": [
        {
          "output_type": "execute_result",
          "data": {
            "text/plain": [
              "(22552, 16)"
            ]
          },
          "metadata": {
            "tags": []
          },
          "execution_count": 143
        }
      ]
    },
    {
      "cell_type": "code",
      "metadata": {
        "id": "aUEAkVscLcAE",
        "colab_type": "code",
        "colab": {
          "base_uri": "https://localhost:8080/",
          "height": 377
        },
        "outputId": "9723cd0c-9155-47b7-b14b-bd0195cd93af"
      },
      "source": [
        "df_raw.info()"
      ],
      "execution_count": 144,
      "outputs": [
        {
          "output_type": "stream",
          "text": [
            "<class 'pandas.core.frame.DataFrame'>\n",
            "RangeIndex: 22552 entries, 0 to 22551\n",
            "Data columns (total 16 columns):\n",
            "price                           22552 non-null object\n",
            "cleaning_fee                    15406 non-null object\n",
            "accommodates                    22552 non-null int64\n",
            "minimum_nights                  22552 non-null int64\n",
            "bedrooms                        22534 non-null float64\n",
            "bathrooms                       22520 non-null float64\n",
            "neighbourhood_group_cleansed    22552 non-null object\n",
            "room_type                       22552 non-null object\n",
            "description                     22349 non-null object\n",
            "extra_people                    22552 non-null object\n",
            "Laptop_friendly_workspace       22552 non-null bool\n",
            "TV                              22552 non-null bool\n",
            "Wifi                            22552 non-null bool\n",
            "Family_kid_friendly             22552 non-null bool\n",
            "Host_greets_you                 22552 non-null bool\n",
            "Smoking_allowed                 22552 non-null bool\n",
            "dtypes: bool(6), float64(2), int64(2), object(6)\n",
            "memory usage: 1.8+ MB\n"
          ],
          "name": "stdout"
        }
      ]
    },
    {
      "cell_type": "code",
      "metadata": {
        "id": "eF1GZj1AL1CX",
        "colab_type": "code",
        "colab": {
          "base_uri": "https://localhost:8080/",
          "height": 103
        },
        "outputId": "7b471456-1b8f-4612-e01a-2fa813ea4996"
      },
      "source": [
        "df['price'].describe()"
      ],
      "execution_count": 145,
      "outputs": [
        {
          "output_type": "execute_result",
          "data": {
            "text/plain": [
              "count      22552\n",
              "unique       295\n",
              "top       $30.00\n",
              "freq        1387\n",
              "Name: price, dtype: object"
            ]
          },
          "metadata": {
            "tags": []
          },
          "execution_count": 145
        }
      ]
    },
    {
      "cell_type": "code",
      "metadata": {
        "id": "EwDcZ8TlMWrZ",
        "colab_type": "code",
        "colab": {
          "base_uri": "https://localhost:8080/",
          "height": 497
        },
        "outputId": "a12e0ec4-54a3-47a2-b7f7-59ba75704c68"
      },
      "source": [
        "df_raw.head()"
      ],
      "execution_count": 146,
      "outputs": [
        {
          "output_type": "execute_result",
          "data": {
            "text/html": [
              "<div>\n",
              "<style scoped>\n",
              "    .dataframe tbody tr th:only-of-type {\n",
              "        vertical-align: middle;\n",
              "    }\n",
              "\n",
              "    .dataframe tbody tr th {\n",
              "        vertical-align: top;\n",
              "    }\n",
              "\n",
              "    .dataframe thead th {\n",
              "        text-align: right;\n",
              "    }\n",
              "</style>\n",
              "<table border=\"1\" class=\"dataframe\">\n",
              "  <thead>\n",
              "    <tr style=\"text-align: right;\">\n",
              "      <th></th>\n",
              "      <th>price</th>\n",
              "      <th>cleaning_fee</th>\n",
              "      <th>accommodates</th>\n",
              "      <th>minimum_nights</th>\n",
              "      <th>bedrooms</th>\n",
              "      <th>bathrooms</th>\n",
              "      <th>neighbourhood_group_cleansed</th>\n",
              "      <th>room_type</th>\n",
              "      <th>description</th>\n",
              "      <th>extra_people</th>\n",
              "      <th>Laptop_friendly_workspace</th>\n",
              "      <th>TV</th>\n",
              "      <th>Wifi</th>\n",
              "      <th>Family_kid_friendly</th>\n",
              "      <th>Host_greets_you</th>\n",
              "      <th>Smoking_allowed</th>\n",
              "    </tr>\n",
              "  </thead>\n",
              "  <tbody>\n",
              "    <tr>\n",
              "      <th>0</th>\n",
              "      <td>$60.00</td>\n",
              "      <td>$30.00</td>\n",
              "      <td>3</td>\n",
              "      <td>4</td>\n",
              "      <td>1.0</td>\n",
              "      <td>1.0</td>\n",
              "      <td>Mitte</td>\n",
              "      <td>Entire home/apt</td>\n",
              "      <td>Great location!  30 of 75 sq meters. This wood...</td>\n",
              "      <td>$28.00</td>\n",
              "      <td>True</td>\n",
              "      <td>True</td>\n",
              "      <td>True</td>\n",
              "      <td>True</td>\n",
              "      <td>False</td>\n",
              "      <td>False</td>\n",
              "    </tr>\n",
              "    <tr>\n",
              "      <th>1</th>\n",
              "      <td>$17.00</td>\n",
              "      <td>$0.00</td>\n",
              "      <td>2</td>\n",
              "      <td>2</td>\n",
              "      <td>1.0</td>\n",
              "      <td>1.0</td>\n",
              "      <td>Pankow</td>\n",
              "      <td>Private room</td>\n",
              "      <td>In the summertime we are spending most of our ...</td>\n",
              "      <td>$0.00</td>\n",
              "      <td>True</td>\n",
              "      <td>False</td>\n",
              "      <td>True</td>\n",
              "      <td>False</td>\n",
              "      <td>False</td>\n",
              "      <td>False</td>\n",
              "    </tr>\n",
              "    <tr>\n",
              "      <th>2</th>\n",
              "      <td>$90.00</td>\n",
              "      <td>$50.00</td>\n",
              "      <td>4</td>\n",
              "      <td>62</td>\n",
              "      <td>1.0</td>\n",
              "      <td>1.0</td>\n",
              "      <td>Pankow</td>\n",
              "      <td>Entire home/apt</td>\n",
              "      <td>This beautiful first floor apartment  is situa...</td>\n",
              "      <td>$20.00</td>\n",
              "      <td>True</td>\n",
              "      <td>False</td>\n",
              "      <td>True</td>\n",
              "      <td>True</td>\n",
              "      <td>False</td>\n",
              "      <td>False</td>\n",
              "    </tr>\n",
              "    <tr>\n",
              "      <th>3</th>\n",
              "      <td>$26.00</td>\n",
              "      <td>$30.00</td>\n",
              "      <td>2</td>\n",
              "      <td>5</td>\n",
              "      <td>1.0</td>\n",
              "      <td>1.0</td>\n",
              "      <td>Tempelhof - Schöneberg</td>\n",
              "      <td>Private room</td>\n",
              "      <td>First of all: I prefer short-notice bookings. ...</td>\n",
              "      <td>$18.00</td>\n",
              "      <td>True</td>\n",
              "      <td>False</td>\n",
              "      <td>True</td>\n",
              "      <td>False</td>\n",
              "      <td>True</td>\n",
              "      <td>False</td>\n",
              "    </tr>\n",
              "    <tr>\n",
              "      <th>4</th>\n",
              "      <td>$42.00</td>\n",
              "      <td>$0.00</td>\n",
              "      <td>2</td>\n",
              "      <td>2</td>\n",
              "      <td>1.0</td>\n",
              "      <td>1.0</td>\n",
              "      <td>Pankow</td>\n",
              "      <td>Private room</td>\n",
              "      <td>Cozy and large room in the beautiful district ...</td>\n",
              "      <td>$24.00</td>\n",
              "      <td>True</td>\n",
              "      <td>False</td>\n",
              "      <td>True</td>\n",
              "      <td>True</td>\n",
              "      <td>False</td>\n",
              "      <td>False</td>\n",
              "    </tr>\n",
              "  </tbody>\n",
              "</table>\n",
              "</div>"
            ],
            "text/plain": [
              "    price cleaning_fee  ...  Host_greets_you  Smoking_allowed\n",
              "0  $60.00       $30.00  ...            False            False\n",
              "1  $17.00        $0.00  ...            False            False\n",
              "2  $90.00       $50.00  ...            False            False\n",
              "3  $26.00       $30.00  ...             True            False\n",
              "4  $42.00        $0.00  ...            False            False\n",
              "\n",
              "[5 rows x 16 columns]"
            ]
          },
          "metadata": {
            "tags": []
          },
          "execution_count": 146
        }
      ]
    },
    {
      "cell_type": "code",
      "metadata": {
        "id": "0P-TLAnanWXI",
        "colab_type": "code",
        "colab": {
          "base_uri": "https://localhost:8080/",
          "height": 308
        },
        "outputId": "ae757cf3-a19e-4912-8a96-ec9b9ca2565b"
      },
      "source": [
        "df_raw.isnull().sum()"
      ],
      "execution_count": 147,
      "outputs": [
        {
          "output_type": "execute_result",
          "data": {
            "text/plain": [
              "price                              0\n",
              "cleaning_fee                    7146\n",
              "accommodates                       0\n",
              "minimum_nights                     0\n",
              "bedrooms                          18\n",
              "bathrooms                         32\n",
              "neighbourhood_group_cleansed       0\n",
              "room_type                          0\n",
              "description                      203\n",
              "extra_people                       0\n",
              "Laptop_friendly_workspace          0\n",
              "TV                                 0\n",
              "Wifi                               0\n",
              "Family_kid_friendly                0\n",
              "Host_greets_you                    0\n",
              "Smoking_allowed                    0\n",
              "dtype: int64"
            ]
          },
          "metadata": {
            "tags": []
          },
          "execution_count": 147
        }
      ]
    },
    {
      "cell_type": "code",
      "metadata": {
        "id": "lL_GafaLmhL-",
        "colab_type": "code",
        "colab": {
          "base_uri": "https://localhost:8080/",
          "height": 157
        },
        "outputId": "c5b242bd-d491-4550-d985-456d4561b0eb"
      },
      "source": [
        "df_raw.cleaning_fee.fillna('$0.00', inplace=True)"
      ],
      "execution_count": 148,
      "outputs": [
        {
          "output_type": "stream",
          "text": [
            "/usr/local/lib/python3.6/dist-packages/pandas/core/generic.py:6287: SettingWithCopyWarning:\n",
            "\n",
            "\n",
            "A value is trying to be set on a copy of a slice from a DataFrame\n",
            "\n",
            "See the caveats in the documentation: http://pandas.pydata.org/pandas-docs/stable/user_guide/indexing.html#returning-a-view-versus-a-copy\n",
            "\n"
          ],
          "name": "stderr"
        }
      ]
    },
    {
      "cell_type": "code",
      "metadata": {
        "id": "QyOydBtmncrn",
        "colab_type": "code",
        "colab": {
          "base_uri": "https://localhost:8080/",
          "height": 308
        },
        "outputId": "a5eee520-40d2-4800-8ae6-55109caf103d"
      },
      "source": [
        "df_raw.isnull().sum()"
      ],
      "execution_count": 149,
      "outputs": [
        {
          "output_type": "execute_result",
          "data": {
            "text/plain": [
              "price                             0\n",
              "cleaning_fee                      0\n",
              "accommodates                      0\n",
              "minimum_nights                    0\n",
              "bedrooms                         18\n",
              "bathrooms                        32\n",
              "neighbourhood_group_cleansed      0\n",
              "room_type                         0\n",
              "description                     203\n",
              "extra_people                      0\n",
              "Laptop_friendly_workspace         0\n",
              "TV                                0\n",
              "Wifi                              0\n",
              "Family_kid_friendly               0\n",
              "Host_greets_you                   0\n",
              "Smoking_allowed                   0\n",
              "dtype: int64"
            ]
          },
          "metadata": {
            "tags": []
          },
          "execution_count": 149
        }
      ]
    },
    {
      "cell_type": "code",
      "metadata": {
        "id": "zRAFKDd6MxRA",
        "colab_type": "code",
        "colab": {
          "base_uri": "https://localhost:8080/",
          "height": 448
        },
        "outputId": "c2019f45-fef7-4afe-d3ee-ac545a306ec5"
      },
      "source": [
        "df_raw['price'] = df_raw['price'].str.replace('$', '').str.replace(',', '').astype(float)\n",
        "df_raw['cleaning_fee'] = df_raw['cleaning_fee'].str.replace('$', '').str.replace(',', '').astype(float)\n",
        "df_raw['extra_people'] = df_raw['extra_people'].str.replace('$', '').str.replace(',', '').astype(float)"
      ],
      "execution_count": 150,
      "outputs": [
        {
          "output_type": "stream",
          "text": [
            "/usr/local/lib/python3.6/dist-packages/ipykernel_launcher.py:1: SettingWithCopyWarning:\n",
            "\n",
            "\n",
            "A value is trying to be set on a copy of a slice from a DataFrame.\n",
            "Try using .loc[row_indexer,col_indexer] = value instead\n",
            "\n",
            "See the caveats in the documentation: http://pandas.pydata.org/pandas-docs/stable/user_guide/indexing.html#returning-a-view-versus-a-copy\n",
            "\n",
            "/usr/local/lib/python3.6/dist-packages/ipykernel_launcher.py:2: SettingWithCopyWarning:\n",
            "\n",
            "\n",
            "A value is trying to be set on a copy of a slice from a DataFrame.\n",
            "Try using .loc[row_indexer,col_indexer] = value instead\n",
            "\n",
            "See the caveats in the documentation: http://pandas.pydata.org/pandas-docs/stable/user_guide/indexing.html#returning-a-view-versus-a-copy\n",
            "\n",
            "/usr/local/lib/python3.6/dist-packages/ipykernel_launcher.py:3: SettingWithCopyWarning:\n",
            "\n",
            "\n",
            "A value is trying to be set on a copy of a slice from a DataFrame.\n",
            "Try using .loc[row_indexer,col_indexer] = value instead\n",
            "\n",
            "See the caveats in the documentation: http://pandas.pydata.org/pandas-docs/stable/user_guide/indexing.html#returning-a-view-versus-a-copy\n",
            "\n"
          ],
          "name": "stderr"
        }
      ]
    },
    {
      "cell_type": "code",
      "metadata": {
        "id": "wUdeRejXNNz9",
        "colab_type": "code",
        "colab": {
          "base_uri": "https://localhost:8080/",
          "height": 497
        },
        "outputId": "4ca8f71a-5f77-4e87-c5bf-219aa17a22a8"
      },
      "source": [
        "df_raw.head()"
      ],
      "execution_count": 151,
      "outputs": [
        {
          "output_type": "execute_result",
          "data": {
            "text/html": [
              "<div>\n",
              "<style scoped>\n",
              "    .dataframe tbody tr th:only-of-type {\n",
              "        vertical-align: middle;\n",
              "    }\n",
              "\n",
              "    .dataframe tbody tr th {\n",
              "        vertical-align: top;\n",
              "    }\n",
              "\n",
              "    .dataframe thead th {\n",
              "        text-align: right;\n",
              "    }\n",
              "</style>\n",
              "<table border=\"1\" class=\"dataframe\">\n",
              "  <thead>\n",
              "    <tr style=\"text-align: right;\">\n",
              "      <th></th>\n",
              "      <th>price</th>\n",
              "      <th>cleaning_fee</th>\n",
              "      <th>accommodates</th>\n",
              "      <th>minimum_nights</th>\n",
              "      <th>bedrooms</th>\n",
              "      <th>bathrooms</th>\n",
              "      <th>neighbourhood_group_cleansed</th>\n",
              "      <th>room_type</th>\n",
              "      <th>description</th>\n",
              "      <th>extra_people</th>\n",
              "      <th>Laptop_friendly_workspace</th>\n",
              "      <th>TV</th>\n",
              "      <th>Wifi</th>\n",
              "      <th>Family_kid_friendly</th>\n",
              "      <th>Host_greets_you</th>\n",
              "      <th>Smoking_allowed</th>\n",
              "    </tr>\n",
              "  </thead>\n",
              "  <tbody>\n",
              "    <tr>\n",
              "      <th>0</th>\n",
              "      <td>60.0</td>\n",
              "      <td>30.0</td>\n",
              "      <td>3</td>\n",
              "      <td>4</td>\n",
              "      <td>1.0</td>\n",
              "      <td>1.0</td>\n",
              "      <td>Mitte</td>\n",
              "      <td>Entire home/apt</td>\n",
              "      <td>Great location!  30 of 75 sq meters. This wood...</td>\n",
              "      <td>28.0</td>\n",
              "      <td>True</td>\n",
              "      <td>True</td>\n",
              "      <td>True</td>\n",
              "      <td>True</td>\n",
              "      <td>False</td>\n",
              "      <td>False</td>\n",
              "    </tr>\n",
              "    <tr>\n",
              "      <th>1</th>\n",
              "      <td>17.0</td>\n",
              "      <td>0.0</td>\n",
              "      <td>2</td>\n",
              "      <td>2</td>\n",
              "      <td>1.0</td>\n",
              "      <td>1.0</td>\n",
              "      <td>Pankow</td>\n",
              "      <td>Private room</td>\n",
              "      <td>In the summertime we are spending most of our ...</td>\n",
              "      <td>0.0</td>\n",
              "      <td>True</td>\n",
              "      <td>False</td>\n",
              "      <td>True</td>\n",
              "      <td>False</td>\n",
              "      <td>False</td>\n",
              "      <td>False</td>\n",
              "    </tr>\n",
              "    <tr>\n",
              "      <th>2</th>\n",
              "      <td>90.0</td>\n",
              "      <td>50.0</td>\n",
              "      <td>4</td>\n",
              "      <td>62</td>\n",
              "      <td>1.0</td>\n",
              "      <td>1.0</td>\n",
              "      <td>Pankow</td>\n",
              "      <td>Entire home/apt</td>\n",
              "      <td>This beautiful first floor apartment  is situa...</td>\n",
              "      <td>20.0</td>\n",
              "      <td>True</td>\n",
              "      <td>False</td>\n",
              "      <td>True</td>\n",
              "      <td>True</td>\n",
              "      <td>False</td>\n",
              "      <td>False</td>\n",
              "    </tr>\n",
              "    <tr>\n",
              "      <th>3</th>\n",
              "      <td>26.0</td>\n",
              "      <td>30.0</td>\n",
              "      <td>2</td>\n",
              "      <td>5</td>\n",
              "      <td>1.0</td>\n",
              "      <td>1.0</td>\n",
              "      <td>Tempelhof - Schöneberg</td>\n",
              "      <td>Private room</td>\n",
              "      <td>First of all: I prefer short-notice bookings. ...</td>\n",
              "      <td>18.0</td>\n",
              "      <td>True</td>\n",
              "      <td>False</td>\n",
              "      <td>True</td>\n",
              "      <td>False</td>\n",
              "      <td>True</td>\n",
              "      <td>False</td>\n",
              "    </tr>\n",
              "    <tr>\n",
              "      <th>4</th>\n",
              "      <td>42.0</td>\n",
              "      <td>0.0</td>\n",
              "      <td>2</td>\n",
              "      <td>2</td>\n",
              "      <td>1.0</td>\n",
              "      <td>1.0</td>\n",
              "      <td>Pankow</td>\n",
              "      <td>Private room</td>\n",
              "      <td>Cozy and large room in the beautiful district ...</td>\n",
              "      <td>24.0</td>\n",
              "      <td>True</td>\n",
              "      <td>False</td>\n",
              "      <td>True</td>\n",
              "      <td>True</td>\n",
              "      <td>False</td>\n",
              "      <td>False</td>\n",
              "    </tr>\n",
              "  </tbody>\n",
              "</table>\n",
              "</div>"
            ],
            "text/plain": [
              "   price  cleaning_fee  ...  Host_greets_you  Smoking_allowed\n",
              "0   60.0          30.0  ...            False            False\n",
              "1   17.0           0.0  ...            False            False\n",
              "2   90.0          50.0  ...            False            False\n",
              "3   26.0          30.0  ...             True            False\n",
              "4   42.0           0.0  ...            False            False\n",
              "\n",
              "[5 rows x 16 columns]"
            ]
          },
          "metadata": {
            "tags": []
          },
          "execution_count": 151
        }
      ]
    },
    {
      "cell_type": "code",
      "metadata": {
        "id": "fPWxKeFHN1_Y",
        "colab_type": "code",
        "colab": {
          "base_uri": "https://localhost:8080/",
          "height": 308
        },
        "outputId": "7eec5e55-7d79-448a-961a-e0004376ae3c"
      },
      "source": [
        "df_raw.dtypes"
      ],
      "execution_count": 152,
      "outputs": [
        {
          "output_type": "execute_result",
          "data": {
            "text/plain": [
              "price                           float64\n",
              "cleaning_fee                    float64\n",
              "accommodates                      int64\n",
              "minimum_nights                    int64\n",
              "bedrooms                        float64\n",
              "bathrooms                       float64\n",
              "neighbourhood_group_cleansed     object\n",
              "room_type                        object\n",
              "description                      object\n",
              "extra_people                    float64\n",
              "Laptop_friendly_workspace          bool\n",
              "TV                                 bool\n",
              "Wifi                               bool\n",
              "Family_kid_friendly                bool\n",
              "Host_greets_you                    bool\n",
              "Smoking_allowed                    bool\n",
              "dtype: object"
            ]
          },
          "metadata": {
            "tags": []
          },
          "execution_count": 152
        }
      ]
    },
    {
      "cell_type": "code",
      "metadata": {
        "id": "NDbemjndN3-o",
        "colab_type": "code",
        "colab": {
          "base_uri": "https://localhost:8080/",
          "height": 295
        },
        "outputId": "be31b112-9db6-4d6d-e9b2-30d471f82eb1"
      },
      "source": [
        "df_raw.describe()"
      ],
      "execution_count": 153,
      "outputs": [
        {
          "output_type": "execute_result",
          "data": {
            "text/html": [
              "<div>\n",
              "<style scoped>\n",
              "    .dataframe tbody tr th:only-of-type {\n",
              "        vertical-align: middle;\n",
              "    }\n",
              "\n",
              "    .dataframe tbody tr th {\n",
              "        vertical-align: top;\n",
              "    }\n",
              "\n",
              "    .dataframe thead th {\n",
              "        text-align: right;\n",
              "    }\n",
              "</style>\n",
              "<table border=\"1\" class=\"dataframe\">\n",
              "  <thead>\n",
              "    <tr style=\"text-align: right;\">\n",
              "      <th></th>\n",
              "      <th>price</th>\n",
              "      <th>cleaning_fee</th>\n",
              "      <th>accommodates</th>\n",
              "      <th>minimum_nights</th>\n",
              "      <th>bedrooms</th>\n",
              "      <th>bathrooms</th>\n",
              "      <th>extra_people</th>\n",
              "    </tr>\n",
              "  </thead>\n",
              "  <tbody>\n",
              "    <tr>\n",
              "      <th>count</th>\n",
              "      <td>22552.000000</td>\n",
              "      <td>22552.000000</td>\n",
              "      <td>22552.000000</td>\n",
              "      <td>22552.000000</td>\n",
              "      <td>22534.000000</td>\n",
              "      <td>22520.000000</td>\n",
              "      <td>22552.000000</td>\n",
              "    </tr>\n",
              "    <tr>\n",
              "      <th>mean</th>\n",
              "      <td>67.143668</td>\n",
              "      <td>18.253991</td>\n",
              "      <td>2.637460</td>\n",
              "      <td>7.157059</td>\n",
              "      <td>1.161134</td>\n",
              "      <td>1.092695</td>\n",
              "      <td>8.257716</td>\n",
              "    </tr>\n",
              "    <tr>\n",
              "      <th>std</th>\n",
              "      <td>220.266210</td>\n",
              "      <td>28.172816</td>\n",
              "      <td>1.510548</td>\n",
              "      <td>40.665073</td>\n",
              "      <td>0.646156</td>\n",
              "      <td>0.329894</td>\n",
              "      <td>11.151069</td>\n",
              "    </tr>\n",
              "    <tr>\n",
              "      <th>min</th>\n",
              "      <td>0.000000</td>\n",
              "      <td>0.000000</td>\n",
              "      <td>1.000000</td>\n",
              "      <td>1.000000</td>\n",
              "      <td>0.000000</td>\n",
              "      <td>0.000000</td>\n",
              "      <td>0.000000</td>\n",
              "    </tr>\n",
              "    <tr>\n",
              "      <th>25%</th>\n",
              "      <td>30.000000</td>\n",
              "      <td>0.000000</td>\n",
              "      <td>2.000000</td>\n",
              "      <td>2.000000</td>\n",
              "      <td>1.000000</td>\n",
              "      <td>1.000000</td>\n",
              "      <td>0.000000</td>\n",
              "    </tr>\n",
              "    <tr>\n",
              "      <th>50%</th>\n",
              "      <td>45.000000</td>\n",
              "      <td>10.000000</td>\n",
              "      <td>2.000000</td>\n",
              "      <td>2.000000</td>\n",
              "      <td>1.000000</td>\n",
              "      <td>1.000000</td>\n",
              "      <td>5.000000</td>\n",
              "    </tr>\n",
              "    <tr>\n",
              "      <th>75%</th>\n",
              "      <td>70.000000</td>\n",
              "      <td>30.000000</td>\n",
              "      <td>3.000000</td>\n",
              "      <td>4.000000</td>\n",
              "      <td>1.000000</td>\n",
              "      <td>1.000000</td>\n",
              "      <td>15.000000</td>\n",
              "    </tr>\n",
              "    <tr>\n",
              "      <th>max</th>\n",
              "      <td>9000.000000</td>\n",
              "      <td>2000.000000</td>\n",
              "      <td>16.000000</td>\n",
              "      <td>5000.000000</td>\n",
              "      <td>12.000000</td>\n",
              "      <td>8.500000</td>\n",
              "      <td>250.000000</td>\n",
              "    </tr>\n",
              "  </tbody>\n",
              "</table>\n",
              "</div>"
            ],
            "text/plain": [
              "              price  cleaning_fee  ...     bathrooms  extra_people\n",
              "count  22552.000000  22552.000000  ...  22520.000000  22552.000000\n",
              "mean      67.143668     18.253991  ...      1.092695      8.257716\n",
              "std      220.266210     28.172816  ...      0.329894     11.151069\n",
              "min        0.000000      0.000000  ...      0.000000      0.000000\n",
              "25%       30.000000      0.000000  ...      1.000000      0.000000\n",
              "50%       45.000000     10.000000  ...      1.000000      5.000000\n",
              "75%       70.000000     30.000000  ...      1.000000     15.000000\n",
              "max     9000.000000   2000.000000  ...      8.500000    250.000000\n",
              "\n",
              "[8 rows x 7 columns]"
            ]
          },
          "metadata": {
            "tags": []
          },
          "execution_count": 153
        }
      ]
    },
    {
      "cell_type": "code",
      "metadata": {
        "id": "EsyFl4arl15E",
        "colab_type": "code",
        "colab": {
          "base_uri": "https://localhost:8080/",
          "height": 243
        },
        "outputId": "1a22bb94-3aba-4642-dd08-8ac4d1458296"
      },
      "source": [
        "df_raw.describe(exclude='number')"
      ],
      "execution_count": 154,
      "outputs": [
        {
          "output_type": "execute_result",
          "data": {
            "text/html": [
              "<div>\n",
              "<style scoped>\n",
              "    .dataframe tbody tr th:only-of-type {\n",
              "        vertical-align: middle;\n",
              "    }\n",
              "\n",
              "    .dataframe tbody tr th {\n",
              "        vertical-align: top;\n",
              "    }\n",
              "\n",
              "    .dataframe thead th {\n",
              "        text-align: right;\n",
              "    }\n",
              "</style>\n",
              "<table border=\"1\" class=\"dataframe\">\n",
              "  <thead>\n",
              "    <tr style=\"text-align: right;\">\n",
              "      <th></th>\n",
              "      <th>neighbourhood_group_cleansed</th>\n",
              "      <th>room_type</th>\n",
              "      <th>description</th>\n",
              "      <th>Laptop_friendly_workspace</th>\n",
              "      <th>TV</th>\n",
              "      <th>Wifi</th>\n",
              "      <th>Family_kid_friendly</th>\n",
              "      <th>Host_greets_you</th>\n",
              "      <th>Smoking_allowed</th>\n",
              "    </tr>\n",
              "  </thead>\n",
              "  <tbody>\n",
              "    <tr>\n",
              "      <th>count</th>\n",
              "      <td>22552</td>\n",
              "      <td>22552</td>\n",
              "      <td>22349</td>\n",
              "      <td>22552</td>\n",
              "      <td>22552</td>\n",
              "      <td>22552</td>\n",
              "      <td>22552</td>\n",
              "      <td>22552</td>\n",
              "      <td>22552</td>\n",
              "    </tr>\n",
              "    <tr>\n",
              "      <th>unique</th>\n",
              "      <td>12</td>\n",
              "      <td>3</td>\n",
              "      <td>21997</td>\n",
              "      <td>2</td>\n",
              "      <td>2</td>\n",
              "      <td>2</td>\n",
              "      <td>2</td>\n",
              "      <td>2</td>\n",
              "      <td>2</td>\n",
              "    </tr>\n",
              "    <tr>\n",
              "      <th>top</th>\n",
              "      <td>Friedrichshain-Kreuzberg</td>\n",
              "      <td>Private room</td>\n",
              "      <td>with en-suite bathroom, TV, WIFI, bed linen, a...</td>\n",
              "      <td>True</td>\n",
              "      <td>False</td>\n",
              "      <td>True</td>\n",
              "      <td>False</td>\n",
              "      <td>False</td>\n",
              "      <td>False</td>\n",
              "    </tr>\n",
              "    <tr>\n",
              "      <th>freq</th>\n",
              "      <td>5497</td>\n",
              "      <td>11534</td>\n",
              "      <td>12</td>\n",
              "      <td>14447</td>\n",
              "      <td>12297</td>\n",
              "      <td>21512</td>\n",
              "      <td>14411</td>\n",
              "      <td>15889</td>\n",
              "      <td>17963</td>\n",
              "    </tr>\n",
              "  </tbody>\n",
              "</table>\n",
              "</div>"
            ],
            "text/plain": [
              "       neighbourhood_group_cleansed  ... Smoking_allowed\n",
              "count                         22552  ...           22552\n",
              "unique                           12  ...               2\n",
              "top        Friedrichshain-Kreuzberg  ...           False\n",
              "freq                           5497  ...           17963\n",
              "\n",
              "[4 rows x 9 columns]"
            ]
          },
          "metadata": {
            "tags": []
          },
          "execution_count": 154
        }
      ]
    },
    {
      "cell_type": "code",
      "metadata": {
        "id": "AlQzYZcIORu0",
        "colab_type": "code",
        "colab": {
          "base_uri": "https://localhost:8080/",
          "height": 34
        },
        "outputId": "c02335c7-3804-46e6-94c6-e9042c15a11c"
      },
      "source": [
        "df_raw.shape"
      ],
      "execution_count": 155,
      "outputs": [
        {
          "output_type": "execute_result",
          "data": {
            "text/plain": [
              "(22552, 16)"
            ]
          },
          "metadata": {
            "tags": []
          },
          "execution_count": 155
        }
      ]
    },
    {
      "cell_type": "code",
      "metadata": {
        "id": "oFEtqhmJN7ic",
        "colab_type": "code",
        "colab": {}
      },
      "source": [
        "df_raw = df_raw[(df_raw['price'] > 7 )& (df_raw['price'] <= 300)]"
      ],
      "execution_count": 0,
      "outputs": []
    },
    {
      "cell_type": "code",
      "metadata": {
        "id": "WNU1qs3rOTv1",
        "colab_type": "code",
        "colab": {
          "base_uri": "https://localhost:8080/",
          "height": 34
        },
        "outputId": "7fad4577-e195-47e9-c96a-36bfa825b4c2"
      },
      "source": [
        "df_raw.shape"
      ],
      "execution_count": 157,
      "outputs": [
        {
          "output_type": "execute_result",
          "data": {
            "text/plain": [
              "(22378, 16)"
            ]
          },
          "metadata": {
            "tags": []
          },
          "execution_count": 157
        }
      ]
    },
    {
      "cell_type": "code",
      "metadata": {
        "id": "bKZ61n9qOVUY",
        "colab_type": "code",
        "colab": {
          "base_uri": "https://localhost:8080/",
          "height": 295
        },
        "outputId": "33944e18-d0e3-41c4-ff5c-855ac86e07c9"
      },
      "source": [
        "df_raw.describe()"
      ],
      "execution_count": 158,
      "outputs": [
        {
          "output_type": "execute_result",
          "data": {
            "text/html": [
              "<div>\n",
              "<style scoped>\n",
              "    .dataframe tbody tr th:only-of-type {\n",
              "        vertical-align: middle;\n",
              "    }\n",
              "\n",
              "    .dataframe tbody tr th {\n",
              "        vertical-align: top;\n",
              "    }\n",
              "\n",
              "    .dataframe thead th {\n",
              "        text-align: right;\n",
              "    }\n",
              "</style>\n",
              "<table border=\"1\" class=\"dataframe\">\n",
              "  <thead>\n",
              "    <tr style=\"text-align: right;\">\n",
              "      <th></th>\n",
              "      <th>price</th>\n",
              "      <th>cleaning_fee</th>\n",
              "      <th>accommodates</th>\n",
              "      <th>minimum_nights</th>\n",
              "      <th>bedrooms</th>\n",
              "      <th>bathrooms</th>\n",
              "      <th>extra_people</th>\n",
              "    </tr>\n",
              "  </thead>\n",
              "  <tbody>\n",
              "    <tr>\n",
              "      <th>count</th>\n",
              "      <td>22378.000000</td>\n",
              "      <td>22378.000000</td>\n",
              "      <td>22378.000000</td>\n",
              "      <td>22378.000000</td>\n",
              "      <td>22360.000000</td>\n",
              "      <td>22346.000000</td>\n",
              "      <td>22378.000000</td>\n",
              "    </tr>\n",
              "    <tr>\n",
              "      <th>mean</th>\n",
              "      <td>56.739789</td>\n",
              "      <td>18.019528</td>\n",
              "      <td>2.612745</td>\n",
              "      <td>7.177853</td>\n",
              "      <td>1.151073</td>\n",
              "      <td>1.088025</td>\n",
              "      <td>8.239298</td>\n",
              "    </tr>\n",
              "    <tr>\n",
              "      <th>std</th>\n",
              "      <td>38.989867</td>\n",
              "      <td>24.442684</td>\n",
              "      <td>1.439738</td>\n",
              "      <td>40.805899</td>\n",
              "      <td>0.616342</td>\n",
              "      <td>0.315403</td>\n",
              "      <td>11.084762</td>\n",
              "    </tr>\n",
              "    <tr>\n",
              "      <th>min</th>\n",
              "      <td>8.000000</td>\n",
              "      <td>0.000000</td>\n",
              "      <td>1.000000</td>\n",
              "      <td>1.000000</td>\n",
              "      <td>0.000000</td>\n",
              "      <td>0.000000</td>\n",
              "      <td>0.000000</td>\n",
              "    </tr>\n",
              "    <tr>\n",
              "      <th>25%</th>\n",
              "      <td>30.000000</td>\n",
              "      <td>0.000000</td>\n",
              "      <td>2.000000</td>\n",
              "      <td>2.000000</td>\n",
              "      <td>1.000000</td>\n",
              "      <td>1.000000</td>\n",
              "      <td>0.000000</td>\n",
              "    </tr>\n",
              "    <tr>\n",
              "      <th>50%</th>\n",
              "      <td>45.000000</td>\n",
              "      <td>10.000000</td>\n",
              "      <td>2.000000</td>\n",
              "      <td>3.000000</td>\n",
              "      <td>1.000000</td>\n",
              "      <td>1.000000</td>\n",
              "      <td>5.000000</td>\n",
              "    </tr>\n",
              "    <tr>\n",
              "      <th>75%</th>\n",
              "      <td>70.000000</td>\n",
              "      <td>30.000000</td>\n",
              "      <td>3.000000</td>\n",
              "      <td>4.000000</td>\n",
              "      <td>1.000000</td>\n",
              "      <td>1.000000</td>\n",
              "      <td>15.000000</td>\n",
              "    </tr>\n",
              "    <tr>\n",
              "      <th>max</th>\n",
              "      <td>300.000000</td>\n",
              "      <td>450.000000</td>\n",
              "      <td>16.000000</td>\n",
              "      <td>5000.000000</td>\n",
              "      <td>9.000000</td>\n",
              "      <td>8.500000</td>\n",
              "      <td>250.000000</td>\n",
              "    </tr>\n",
              "  </tbody>\n",
              "</table>\n",
              "</div>"
            ],
            "text/plain": [
              "              price  cleaning_fee  ...     bathrooms  extra_people\n",
              "count  22378.000000  22378.000000  ...  22346.000000  22378.000000\n",
              "mean      56.739789     18.019528  ...      1.088025      8.239298\n",
              "std       38.989867     24.442684  ...      0.315403     11.084762\n",
              "min        8.000000      0.000000  ...      0.000000      0.000000\n",
              "25%       30.000000      0.000000  ...      1.000000      0.000000\n",
              "50%       45.000000     10.000000  ...      1.000000      5.000000\n",
              "75%       70.000000     30.000000  ...      1.000000     15.000000\n",
              "max      300.000000    450.000000  ...      8.500000    250.000000\n",
              "\n",
              "[8 rows x 7 columns]"
            ]
          },
          "metadata": {
            "tags": []
          },
          "execution_count": 158
        }
      ]
    },
    {
      "cell_type": "code",
      "metadata": {
        "id": "TiUC5QGiOYHW",
        "colab_type": "code",
        "colab": {
          "base_uri": "https://localhost:8080/",
          "height": 308
        },
        "outputId": "e54c30f0-5c72-42d6-c369-abf40038d4a0"
      },
      "source": [
        "df_raw.isnull().sum()"
      ],
      "execution_count": 159,
      "outputs": [
        {
          "output_type": "execute_result",
          "data": {
            "text/plain": [
              "price                             0\n",
              "cleaning_fee                      0\n",
              "accommodates                      0\n",
              "minimum_nights                    0\n",
              "bedrooms                         18\n",
              "bathrooms                        32\n",
              "neighbourhood_group_cleansed      0\n",
              "room_type                         0\n",
              "description                     201\n",
              "extra_people                      0\n",
              "Laptop_friendly_workspace         0\n",
              "TV                                0\n",
              "Wifi                              0\n",
              "Family_kid_friendly               0\n",
              "Host_greets_you                   0\n",
              "Smoking_allowed                   0\n",
              "dtype: int64"
            ]
          },
          "metadata": {
            "tags": []
          },
          "execution_count": 159
        }
      ]
    },
    {
      "cell_type": "code",
      "metadata": {
        "id": "klgJs6xYO0XT",
        "colab_type": "code",
        "colab": {}
      },
      "source": [
        "df_clean = df_raw.dropna()"
      ],
      "execution_count": 0,
      "outputs": []
    },
    {
      "cell_type": "code",
      "metadata": {
        "id": "FZx6q6IVPsHa",
        "colab_type": "code",
        "colab": {
          "base_uri": "https://localhost:8080/",
          "height": 308
        },
        "outputId": "fabfa71b-6d92-4068-ea29-08902745625c"
      },
      "source": [
        "df_clean.isnull().sum()"
      ],
      "execution_count": 161,
      "outputs": [
        {
          "output_type": "execute_result",
          "data": {
            "text/plain": [
              "price                           0\n",
              "cleaning_fee                    0\n",
              "accommodates                    0\n",
              "minimum_nights                  0\n",
              "bedrooms                        0\n",
              "bathrooms                       0\n",
              "neighbourhood_group_cleansed    0\n",
              "room_type                       0\n",
              "description                     0\n",
              "extra_people                    0\n",
              "Laptop_friendly_workspace       0\n",
              "TV                              0\n",
              "Wifi                            0\n",
              "Family_kid_friendly             0\n",
              "Host_greets_you                 0\n",
              "Smoking_allowed                 0\n",
              "dtype: int64"
            ]
          },
          "metadata": {
            "tags": []
          },
          "execution_count": 161
        }
      ]
    },
    {
      "cell_type": "code",
      "metadata": {
        "id": "9CDTs7m7mobX",
        "colab_type": "code",
        "colab": {
          "base_uri": "https://localhost:8080/",
          "height": 243
        },
        "outputId": "8c551758-88db-476b-e584-707234e629cc"
      },
      "source": [
        "df_clean.describe(exclude='number')"
      ],
      "execution_count": 162,
      "outputs": [
        {
          "output_type": "execute_result",
          "data": {
            "text/html": [
              "<div>\n",
              "<style scoped>\n",
              "    .dataframe tbody tr th:only-of-type {\n",
              "        vertical-align: middle;\n",
              "    }\n",
              "\n",
              "    .dataframe tbody tr th {\n",
              "        vertical-align: top;\n",
              "    }\n",
              "\n",
              "    .dataframe thead th {\n",
              "        text-align: right;\n",
              "    }\n",
              "</style>\n",
              "<table border=\"1\" class=\"dataframe\">\n",
              "  <thead>\n",
              "    <tr style=\"text-align: right;\">\n",
              "      <th></th>\n",
              "      <th>neighbourhood_group_cleansed</th>\n",
              "      <th>room_type</th>\n",
              "      <th>description</th>\n",
              "      <th>Laptop_friendly_workspace</th>\n",
              "      <th>TV</th>\n",
              "      <th>Wifi</th>\n",
              "      <th>Family_kid_friendly</th>\n",
              "      <th>Host_greets_you</th>\n",
              "      <th>Smoking_allowed</th>\n",
              "    </tr>\n",
              "  </thead>\n",
              "  <tbody>\n",
              "    <tr>\n",
              "      <th>count</th>\n",
              "      <td>22127</td>\n",
              "      <td>22127</td>\n",
              "      <td>22127</td>\n",
              "      <td>22127</td>\n",
              "      <td>22127</td>\n",
              "      <td>22127</td>\n",
              "      <td>22127</td>\n",
              "      <td>22127</td>\n",
              "      <td>22127</td>\n",
              "    </tr>\n",
              "    <tr>\n",
              "      <th>unique</th>\n",
              "      <td>12</td>\n",
              "      <td>3</td>\n",
              "      <td>21795</td>\n",
              "      <td>2</td>\n",
              "      <td>2</td>\n",
              "      <td>2</td>\n",
              "      <td>2</td>\n",
              "      <td>2</td>\n",
              "      <td>2</td>\n",
              "    </tr>\n",
              "    <tr>\n",
              "      <th>top</th>\n",
              "      <td>Friedrichshain-Kreuzberg</td>\n",
              "      <td>Private room</td>\n",
              "      <td>with en-suite bathroom, TV, WIFI, bed linen, a...</td>\n",
              "      <td>True</td>\n",
              "      <td>False</td>\n",
              "      <td>True</td>\n",
              "      <td>False</td>\n",
              "      <td>False</td>\n",
              "      <td>False</td>\n",
              "    </tr>\n",
              "    <tr>\n",
              "      <th>freq</th>\n",
              "      <td>5417</td>\n",
              "      <td>11345</td>\n",
              "      <td>12</td>\n",
              "      <td>14198</td>\n",
              "      <td>12119</td>\n",
              "      <td>21125</td>\n",
              "      <td>14081</td>\n",
              "      <td>15551</td>\n",
              "      <td>17623</td>\n",
              "    </tr>\n",
              "  </tbody>\n",
              "</table>\n",
              "</div>"
            ],
            "text/plain": [
              "       neighbourhood_group_cleansed  ... Smoking_allowed\n",
              "count                         22127  ...           22127\n",
              "unique                           12  ...               2\n",
              "top        Friedrichshain-Kreuzberg  ...           False\n",
              "freq                           5417  ...           17623\n",
              "\n",
              "[4 rows x 9 columns]"
            ]
          },
          "metadata": {
            "tags": []
          },
          "execution_count": 162
        }
      ]
    },
    {
      "cell_type": "code",
      "metadata": {
        "id": "NJpeh8QtPvgK",
        "colab_type": "code",
        "colab": {
          "base_uri": "https://localhost:8080/",
          "height": 34
        },
        "outputId": "ee971de6-3159-47eb-ebff-7a610b18b588"
      },
      "source": [
        "df_clean.shape"
      ],
      "execution_count": 163,
      "outputs": [
        {
          "output_type": "execute_result",
          "data": {
            "text/plain": [
              "(22127, 16)"
            ]
          },
          "metadata": {
            "tags": []
          },
          "execution_count": 163
        }
      ]
    },
    {
      "cell_type": "code",
      "metadata": {
        "id": "onbP_PkMPx1D",
        "colab_type": "code",
        "colab": {}
      },
      "source": [
        "df_clean.to_csv('airbnb.csv')"
      ],
      "execution_count": 0,
      "outputs": []
    },
    {
      "cell_type": "code",
      "metadata": {
        "id": "rWqwmZLJP6y0",
        "colab_type": "code",
        "colab": {
          "base_uri": "https://localhost:8080/",
          "height": 497
        },
        "outputId": "c490907a-1b06-441c-cdf9-362f424770ba"
      },
      "source": [
        "df_clean.head()"
      ],
      "execution_count": 165,
      "outputs": [
        {
          "output_type": "execute_result",
          "data": {
            "text/html": [
              "<div>\n",
              "<style scoped>\n",
              "    .dataframe tbody tr th:only-of-type {\n",
              "        vertical-align: middle;\n",
              "    }\n",
              "\n",
              "    .dataframe tbody tr th {\n",
              "        vertical-align: top;\n",
              "    }\n",
              "\n",
              "    .dataframe thead th {\n",
              "        text-align: right;\n",
              "    }\n",
              "</style>\n",
              "<table border=\"1\" class=\"dataframe\">\n",
              "  <thead>\n",
              "    <tr style=\"text-align: right;\">\n",
              "      <th></th>\n",
              "      <th>price</th>\n",
              "      <th>cleaning_fee</th>\n",
              "      <th>accommodates</th>\n",
              "      <th>minimum_nights</th>\n",
              "      <th>bedrooms</th>\n",
              "      <th>bathrooms</th>\n",
              "      <th>neighbourhood_group_cleansed</th>\n",
              "      <th>room_type</th>\n",
              "      <th>description</th>\n",
              "      <th>extra_people</th>\n",
              "      <th>Laptop_friendly_workspace</th>\n",
              "      <th>TV</th>\n",
              "      <th>Wifi</th>\n",
              "      <th>Family_kid_friendly</th>\n",
              "      <th>Host_greets_you</th>\n",
              "      <th>Smoking_allowed</th>\n",
              "    </tr>\n",
              "  </thead>\n",
              "  <tbody>\n",
              "    <tr>\n",
              "      <th>0</th>\n",
              "      <td>60.0</td>\n",
              "      <td>30.0</td>\n",
              "      <td>3</td>\n",
              "      <td>4</td>\n",
              "      <td>1.0</td>\n",
              "      <td>1.0</td>\n",
              "      <td>Mitte</td>\n",
              "      <td>Entire home/apt</td>\n",
              "      <td>Great location!  30 of 75 sq meters. This wood...</td>\n",
              "      <td>28.0</td>\n",
              "      <td>True</td>\n",
              "      <td>True</td>\n",
              "      <td>True</td>\n",
              "      <td>True</td>\n",
              "      <td>False</td>\n",
              "      <td>False</td>\n",
              "    </tr>\n",
              "    <tr>\n",
              "      <th>1</th>\n",
              "      <td>17.0</td>\n",
              "      <td>0.0</td>\n",
              "      <td>2</td>\n",
              "      <td>2</td>\n",
              "      <td>1.0</td>\n",
              "      <td>1.0</td>\n",
              "      <td>Pankow</td>\n",
              "      <td>Private room</td>\n",
              "      <td>In the summertime we are spending most of our ...</td>\n",
              "      <td>0.0</td>\n",
              "      <td>True</td>\n",
              "      <td>False</td>\n",
              "      <td>True</td>\n",
              "      <td>False</td>\n",
              "      <td>False</td>\n",
              "      <td>False</td>\n",
              "    </tr>\n",
              "    <tr>\n",
              "      <th>2</th>\n",
              "      <td>90.0</td>\n",
              "      <td>50.0</td>\n",
              "      <td>4</td>\n",
              "      <td>62</td>\n",
              "      <td>1.0</td>\n",
              "      <td>1.0</td>\n",
              "      <td>Pankow</td>\n",
              "      <td>Entire home/apt</td>\n",
              "      <td>This beautiful first floor apartment  is situa...</td>\n",
              "      <td>20.0</td>\n",
              "      <td>True</td>\n",
              "      <td>False</td>\n",
              "      <td>True</td>\n",
              "      <td>True</td>\n",
              "      <td>False</td>\n",
              "      <td>False</td>\n",
              "    </tr>\n",
              "    <tr>\n",
              "      <th>3</th>\n",
              "      <td>26.0</td>\n",
              "      <td>30.0</td>\n",
              "      <td>2</td>\n",
              "      <td>5</td>\n",
              "      <td>1.0</td>\n",
              "      <td>1.0</td>\n",
              "      <td>Tempelhof - Schöneberg</td>\n",
              "      <td>Private room</td>\n",
              "      <td>First of all: I prefer short-notice bookings. ...</td>\n",
              "      <td>18.0</td>\n",
              "      <td>True</td>\n",
              "      <td>False</td>\n",
              "      <td>True</td>\n",
              "      <td>False</td>\n",
              "      <td>True</td>\n",
              "      <td>False</td>\n",
              "    </tr>\n",
              "    <tr>\n",
              "      <th>4</th>\n",
              "      <td>42.0</td>\n",
              "      <td>0.0</td>\n",
              "      <td>2</td>\n",
              "      <td>2</td>\n",
              "      <td>1.0</td>\n",
              "      <td>1.0</td>\n",
              "      <td>Pankow</td>\n",
              "      <td>Private room</td>\n",
              "      <td>Cozy and large room in the beautiful district ...</td>\n",
              "      <td>24.0</td>\n",
              "      <td>True</td>\n",
              "      <td>False</td>\n",
              "      <td>True</td>\n",
              "      <td>True</td>\n",
              "      <td>False</td>\n",
              "      <td>False</td>\n",
              "    </tr>\n",
              "  </tbody>\n",
              "</table>\n",
              "</div>"
            ],
            "text/plain": [
              "   price  cleaning_fee  ...  Host_greets_you  Smoking_allowed\n",
              "0   60.0          30.0  ...            False            False\n",
              "1   17.0           0.0  ...            False            False\n",
              "2   90.0          50.0  ...            False            False\n",
              "3   26.0          30.0  ...             True            False\n",
              "4   42.0           0.0  ...            False            False\n",
              "\n",
              "[5 rows x 16 columns]"
            ]
          },
          "metadata": {
            "tags": []
          },
          "execution_count": 165
        }
      ]
    },
    {
      "cell_type": "code",
      "metadata": {
        "id": "6K0LTEoXpqes",
        "colab_type": "code",
        "colab": {
          "base_uri": "https://localhost:8080/",
          "height": 308
        },
        "outputId": "abca17ad-0e47-4156-bc9d-0626932b6c7a"
      },
      "source": [
        "df_clean.dtypes"
      ],
      "execution_count": 166,
      "outputs": [
        {
          "output_type": "execute_result",
          "data": {
            "text/plain": [
              "price                           float64\n",
              "cleaning_fee                    float64\n",
              "accommodates                      int64\n",
              "minimum_nights                    int64\n",
              "bedrooms                        float64\n",
              "bathrooms                       float64\n",
              "neighbourhood_group_cleansed     object\n",
              "room_type                        object\n",
              "description                      object\n",
              "extra_people                    float64\n",
              "Laptop_friendly_workspace          bool\n",
              "TV                                 bool\n",
              "Wifi                               bool\n",
              "Family_kid_friendly                bool\n",
              "Host_greets_you                    bool\n",
              "Smoking_allowed                    bool\n",
              "dtype: object"
            ]
          },
          "metadata": {
            "tags": []
          },
          "execution_count": 166
        }
      ]
    },
    {
      "cell_type": "code",
      "metadata": {
        "id": "A7KoojX_q68U",
        "colab_type": "code",
        "colab": {}
      },
      "source": [
        ""
      ],
      "execution_count": 0,
      "outputs": []
    }
  ]
}